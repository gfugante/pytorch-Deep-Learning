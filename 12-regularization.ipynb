{
 "cells": [
  {
   "cell_type": "markdown",
   "metadata": {},
   "source": [
    "## Regularisation in NNs¶"
   ]
  },
  {
   "cell_type": "markdown",
   "metadata": {},
   "source": [
    "Before we start doing anything, I think it's important to understand for NLP, this is the intuitive process on what we are trying to do when we are processing our data in the IMDB dataset:\n",
    "1. Tokenization: break sentence into individual words\n",
    "    - Before: `\"PyTorch seems really easy to use!\"`\n",
    "    - After: `[\"PyTorch\", \"seems\", \"really\", \"easy\", \"to\", \"use\", \"!\"]`\n",
    "2. Building vocabulary: build an index of words associated with unique numbers\n",
    "    - Before: `[\"PyTorch\", \"seems\", \"really\", \"easy\", \"to\", \"use\", \"!\"]`\n",
    "    - After: `{\"Pytorch: 0, \"seems\": 1, \"really\": 2, ...}`\n",
    "3. Convert to numerals: map words to unique numbers (indices)\n",
    "    - Before: `{\"Pytorch: 0, \"seems\": 1, \"really\": 2, ...}`\n",
    "    - After: `[0, 1, 2, ...]`\n",
    "4. Embedding look-up: map sentences (indices now) to fixed matrices\n",
    "    - ```[[0.1, 0.4, 0.3],\n",
    "       [0.8, 0.1, 0.5],\n",
    "       ...]```"
   ]
  },
  {
   "cell_type": "code",
   "execution_count": 1,
   "metadata": {},
   "outputs": [],
   "source": [
    "# Critical plotting imports\n",
    "import matplotlib.pyplot as plt\n",
    "%matplotlib inline\n",
    "\n",
    "# Checnking for module version \n",
    "from cmp_version import cmp_version \n",
    "\n",
    "# PyTorch imports\n",
    "from torchtext import __version__ as ttver\n",
    "# https://github.com/pytorch/text/releases/tag/v0.9.0-rc5\n",
    "if cmp_version(ttver,\"0.9.0\")>=0: \n",
    "    from torchtext.legacy import data, datasets\n",
    "else:\n",
    "    from torchtext import data, datasets\n",
    "import torch\n",
    "import torch.nn as nn\n",
    "import torch.nn.functional as F\n",
    "\n",
    "# Checking for iterable objects\n",
    "import collections\n",
    "import random"
   ]
  },
  {
   "cell_type": "code",
   "execution_count": 2,
   "metadata": {},
   "outputs": [],
   "source": [
    "# Set seed\n",
    "torch.manual_seed(1337)\n",
    "if torch.cuda.is_available():\n",
    "    torch.cuda.manual_seed_all(1337)"
   ]
  },
  {
   "cell_type": "code",
   "execution_count": 3,
   "metadata": {},
   "outputs": [],
   "source": [
    "# Set plotting style\n",
    "plt.style.use(('dark_background', 'bmh'))\n",
    "plt.rc('axes', facecolor='none')\n",
    "plt.rc('figure', figsize=(16, 4))"
   ]
  },
  {
   "cell_type": "code",
   "execution_count": 4,
   "metadata": {},
   "outputs": [],
   "source": [
    "# Create instances of fields\n",
    "# The important field here is fix_length: all examples using this field will be padded to, or None for flexible sequence lengths\n",
    "# We are fixing this because we will be using a FNN not an LSTM/RNN/GRU where we can go through uneven sequence lengths\n",
    "max_len = 80\n",
    "text = data.Field(sequential=True, fix_length=max_len, batch_first=True, lower=True, dtype=torch.long)\n",
    "label = data.LabelField(sequential=False, dtype=torch.float)"
   ]
  },
  {
   "cell_type": "code",
   "execution_count": 5,
   "metadata": {},
   "outputs": [],
   "source": [
    "# Calling splits() class method of datasets.IMDB to return a torchtext.data.Dataset object\n",
    "#datasets.IMDB.download('./')\n",
    "ds_train, ds_test = datasets.IMDB.splits(text, label, path='./imdb/aclImdb/')"
   ]
  },
  {
   "cell_type": "code",
   "execution_count": 6,
   "metadata": {},
   "outputs": [
    {
     "name": "stdout",
     "output_type": "stream",
     "text": [
      "train :  25000\n",
      "test :  25000\n",
      "train.fields : {'text': <torchtext.legacy.data.field.Field object at 0x12b3e8b70>, 'label': <torchtext.legacy.data.field.LabelField object at 0x12b3e8a58>}\n"
     ]
    }
   ],
   "source": [
    "# Training and test set each 25k samples\n",
    "# 2 fields due to the way we split above\n",
    "print('train : ', len(ds_train))\n",
    "print('test : ', len(ds_test))\n",
    "print('train.fields :', ds_train.fields)"
   ]
  },
  {
   "cell_type": "code",
   "execution_count": 7,
   "metadata": {},
   "outputs": [],
   "source": [
    "# Get validation set\n",
    "seed_num = 1337\n",
    "ds_train, ds_valid = ds_train.split(random_state=random.seed(seed_num))"
   ]
  },
  {
   "cell_type": "code",
   "execution_count": 8,
   "metadata": {},
   "outputs": [
    {
     "name": "stdout",
     "output_type": "stream",
     "text": [
      "train :  17500\n",
      "valid :  7500\n",
      "test  :  25000\n"
     ]
    }
   ],
   "source": [
    "# Now we've training, validation and test set\n",
    "print('train : ', len(ds_train))\n",
    "print('valid : ', len(ds_valid))\n",
    "print('test  : ', len(ds_test))"
   ]
  },
  {
   "cell_type": "code",
   "execution_count": 9,
   "metadata": {},
   "outputs": [],
   "source": [
    "# Build vocabulary\n",
    "# num_words = 25000\n",
    "num_words = 1000\n",
    "text.build_vocab(ds_train, max_size=num_words)\n",
    "label.build_vocab(ds_train)"
   ]
  },
  {
   "cell_type": "code",
   "execution_count": 10,
   "metadata": {},
   "outputs": [
    {
     "name": "stdout",
     "output_type": "stream",
     "text": [
      "Vocabulary size: 1002\n",
      "Label size: 2\n"
     ]
    }
   ],
   "source": [
    "# Print vocab size\n",
    "print('Vocabulary size: {}'.format(len(text.vocab)))\n",
    "print('Label size: {}'.format(len(label.vocab)))"
   ]
  },
  {
   "cell_type": "code",
   "execution_count": 11,
   "metadata": {},
   "outputs": [
    {
     "name": "stdout",
     "output_type": "stream",
     "text": [
      "[('the', 225411), ('a', 111661), ('and', 110736), ('of', 101281), ('to', 93618), ('is', 73247), ('in', 63011), ('i', 49141), ('this', 49010), ('that', 46426)]\n"
     ]
    }
   ],
   "source": [
    "# Print most common vocabulary text\n",
    "most_common_samples = 10\n",
    "print(text.vocab.freqs.most_common(most_common_samples))"
   ]
  },
  {
   "cell_type": "code",
   "execution_count": 12,
   "metadata": {},
   "outputs": [
    {
     "name": "stdout",
     "output_type": "stream",
     "text": [
      "[('neg', 8835), ('pos', 8665)]\n"
     ]
    }
   ],
   "source": [
    "# Print most common labels\n",
    "print(label.vocab.freqs.most_common())"
   ]
  },
  {
   "cell_type": "code",
   "execution_count": 13,
   "metadata": {},
   "outputs": [
    {
     "data": {
      "text/plain": [
       "'neg'"
      ]
     },
     "execution_count": 13,
     "metadata": {},
     "output_type": "execute_result"
    }
   ],
   "source": [
    "# Sample 0 label\n",
    "ds_train[0].label"
   ]
  },
  {
   "cell_type": "code",
   "execution_count": null,
   "metadata": {
    "scrolled": false
   },
   "outputs": [],
   "source": [
    "# Sample 0 text: broken down into individual portions\n",
    "ds_train[0].text"
   ]
  },
  {
   "cell_type": "code",
   "execution_count": 15,
   "metadata": {},
   "outputs": [
    {
     "name": "stdout",
     "output_type": "stream",
     "text": [
      "just about everything in this movie is wrong, wrong, wrong. take mike myers, for example. he's reached the point where you realize that his shtick hasn't changed since his snl days, over ten years ago. he's doing the same cutesy stream-of-consciousness jokes and the same voices. his cat is painfully unfunny. he tries way to hard. he's some weird type a comedian, not the cool cat he's supposed to be. the rest of the movie is just as bad. the sets are unbelievably ugly --- and clearly a waste of millions of dollars. (cardboard cut-outs for the background buildings would have made more sense than constructing an entire neighborhood and main street.) alec balwin tries to do a funny great santini impression, but he ends up looking and sounding incoherent. there's even an innapropriate cheesecake moment with faux celebrity paris hilton --- that sticks in the mind simply because this is supposed to be a dr. seuss story. avoid this movie at all costs, folks. it's not even an interesting train wreck. (i hope they'll make horton hears a who with robin williams. then we'll have the bad-seuss movie-starring-spasitc- comedian trilogy.)\n"
     ]
    }
   ],
   "source": [
    "# Sample 0 text: human readeable sample\n",
    "def show_text(sample):\n",
    "    print(' '.join(word for word in sample))\n",
    "    \n",
    "show_text(ds_train[0].text)"
   ]
  },
  {
   "cell_type": "code",
   "execution_count": 16,
   "metadata": {},
   "outputs": [],
   "source": [
    "# Create and iterable object for our training, validation and testing datasets\n",
    "# Batches examples of similar lengths together that minimizes amount of padding needed\n",
    "batch_size = 64  # Change batch size from 1 to bigger number once explanation is done\n",
    "train_loader, valid_loader, test_loader = data.BucketIterator.splits(\n",
    "    (ds_train, ds_valid, ds_test), batch_size=batch_size, sort_key=lambda x: len(x.text), repeat=False\n",
    ")"
   ]
  },
  {
   "cell_type": "code",
   "execution_count": 17,
   "metadata": {},
   "outputs": [
    {
     "data": {
      "text/plain": [
       "True"
      ]
     },
     "execution_count": 17,
     "metadata": {},
     "output_type": "execute_result"
    }
   ],
   "source": [
    "# Check if iterator above is an iterable which should show True\n",
    "isinstance(train_loader, collections.Iterable)"
   ]
  },
  {
   "cell_type": "code",
   "execution_count": 18,
   "metadata": {},
   "outputs": [
    {
     "data": {
      "text/plain": [
       "\n",
       "[torchtext.legacy.data.batch.Batch of size 64]\n",
       "\t[.text]:[torch.LongTensor of size 64x80]\n",
       "\t[.label]:[torch.FloatTensor of size 64]"
      ]
     },
     "execution_count": 18,
     "metadata": {},
     "output_type": "execute_result"
    }
   ],
   "source": [
    "# What's inside this iteratable object? Our text and label although now everything is in machine format (not \"words\") but in numbers!\n",
    "# The text we saw above becomes a matrix of size 1 x 80 represented by the fixed length we defined before that\n",
    "list(train_loader)[0]"
   ]
  },
  {
   "cell_type": "code",
   "execution_count": 19,
   "metadata": {},
   "outputs": [
    {
     "data": {
      "text/plain": [
       "\n",
       "[torchtext.legacy.data.batch.Batch of size 64]\n",
       "\t[.text]:[torch.LongTensor of size 64x80]\n",
       "\t[.label]:[torch.FloatTensor of size 64]"
      ]
     },
     "execution_count": 19,
     "metadata": {},
     "output_type": "execute_result"
    }
   ],
   "source": [
    "# Alternative to above, this is much faster but the above code is easy to understand and implement\n",
    "next(train_loader.__iter__())"
   ]
  },
  {
   "cell_type": "code",
   "execution_count": 20,
   "metadata": {},
   "outputs": [],
   "source": [
    "test_batch = next(train_loader.__iter__())"
   ]
  },
  {
   "cell_type": "code",
   "execution_count": 21,
   "metadata": {},
   "outputs": [
    {
     "data": {
      "text/plain": [
       "dict_keys(['text', 'label'])"
      ]
     },
     "execution_count": 21,
     "metadata": {},
     "output_type": "execute_result"
    }
   ],
   "source": [
    "# What methods can we call on this batch object? Text and label\n",
    "test_batch.fields"
   ]
  },
  {
   "cell_type": "code",
   "execution_count": 22,
   "metadata": {},
   "outputs": [
    {
     "data": {
      "text/plain": [
       "tensor([[190,  10, 180,  ...,   2,  24,   7],\n",
       "        [  9, 178, 206,  ...,  97,   0,  29],\n",
       "        [ 52,   7,   3,  ...,  48,   0,  21],\n",
       "        ...,\n",
       "        [  0,   0,   4,  ...,   2,   0,   0],\n",
       "        [  2,   0, 654,  ...,   0,   0, 148],\n",
       "        [  9, 201,  10,  ...,  22,   0, 550]])"
      ]
     },
     "execution_count": 22,
     "metadata": {},
     "output_type": "execute_result"
    }
   ],
   "source": [
    "# Let's break this down to check what's in a batch\n",
    "test_batch.text"
   ]
  },
  {
   "cell_type": "code",
   "execution_count": 23,
   "metadata": {},
   "outputs": [
    {
     "data": {
      "text/plain": [
       "torch.Size([64, 80])"
      ]
     },
     "execution_count": 23,
     "metadata": {},
     "output_type": "execute_result"
    }
   ],
   "source": [
    "# 1 comment per batch, each comment is limited to a size of 80 as we've defined\n",
    "test_batch.text.size()"
   ]
  },
  {
   "cell_type": "code",
   "execution_count": 24,
   "metadata": {},
   "outputs": [
    {
     "data": {
      "text/plain": [
       "tensor([1., 0., 0., 1., 1., 0., 1., 1., 1., 1., 0., 0., 1., 0., 1., 0., 0., 0.,\n",
       "        1., 0., 1., 0., 0., 0., 1., 0., 1., 0., 0., 0., 0., 1., 0., 1., 1., 1.,\n",
       "        0., 1., 1., 0., 1., 1., 1., 0., 0., 0., 0., 0., 0., 1., 0., 1., 0., 0.,\n",
       "        1., 1., 0., 0., 0., 1., 0., 1., 0., 1.])"
      ]
     },
     "execution_count": 24,
     "metadata": {},
     "output_type": "execute_result"
    }
   ],
   "source": [
    "test_batch.label"
   ]
  },
  {
   "cell_type": "code",
   "execution_count": 25,
   "metadata": {},
   "outputs": [],
   "source": [
    "# Extremely weird problem in torchtext where BucketIterator returns a Batch object versus just a simple tuple of tensors containing our text index and labels\n",
    "# So let's fix this with a new class FixBatchGenerator\n",
    "\n",
    "class FixBatchGenerator:\n",
    "    def __init__(self, dl, x_field, y_field):\n",
    "        self.dl, self.x_field, self.y_field = dl, x_field, y_field\n",
    "        \n",
    "    def __len__(self):\n",
    "        return len(self.dl)\n",
    "    \n",
    "    def __iter__(self):\n",
    "        for batch in self.dl:\n",
    "            X = getattr(batch, self.x_field)\n",
    "            y = getattr(batch, self.y_field)\n",
    "            yield (X,y)\n",
    "            \n",
    "train_loader, valid_loader, test_loader = FixBatchGenerator(train_loader, 'text', 'label'), FixBatchGenerator(valid_loader, 'text', 'label'), FixBatchGenerator(test_loader, 'text', 'label')"
   ]
  },
  {
   "cell_type": "code",
   "execution_count": 26,
   "metadata": {},
   "outputs": [
    {
     "name": "stdout",
     "output_type": "stream",
     "text": [
      "tensor([[  9,   0,   0,  ...,  60,   0,  74],\n",
      "        [ 10,   7,   3,  ...,  39, 575,   2],\n",
      "        [  0,  10, 135,  ...,  12,   6, 206],\n",
      "        ...,\n",
      "        [  0,   9, 178,  ...,  28,   0,  12],\n",
      "        [  0,  17,   2,  ..., 101,   0,  38],\n",
      "        [  0,   0,  62,  ...,   0,   0, 177]])\n",
      "tensor([1., 0., 0., 0., 1., 0., 0., 1., 1., 1., 0., 0., 1., 1., 0., 1., 0., 1.,\n",
      "        0., 1., 1., 1., 0., 1., 1., 1., 1., 0., 0., 1., 1., 0., 1., 1., 0., 0.,\n",
      "        0., 1., 1., 1., 1., 1., 0., 1., 1., 1., 0., 1., 1., 1., 1., 0., 0., 1.,\n",
      "        0., 0., 0., 0., 1., 1., 1., 0., 1., 0.])\n"
     ]
    }
   ],
   "source": [
    "# Text index\n",
    "print(next(train_loader.__iter__())[0])\n",
    "\n",
    "# Text label\n",
    "print(next(train_loader.__iter__())[1])"
   ]
  },
  {
   "cell_type": "code",
   "execution_count": 27,
   "metadata": {},
   "outputs": [],
   "source": [
    "class FeedforwardNeuralNetModel(nn.Module):\n",
    "    def __init__(self, input_dim, embedding_dim, hidden_dim, output_dim):\n",
    "        super(FeedforwardNeuralNetModel, self).__init__()\n",
    "        # Embedding layer\n",
    "        self.embedding = nn.Embedding(input_dim, embedding_dim)\n",
    "        \n",
    "        # Linear function\n",
    "        self.fc1 = nn.Linear(embedding_dim*embedding_dim, hidden_dim) \n",
    "\n",
    "        # Linear function (readout)\n",
    "        self.fc2 = nn.Linear(hidden_dim, output_dim)\n",
    "        \n",
    "    def forward(self, x):\n",
    "        # Embedding\n",
    "        embedded = self.embedding(x)\n",
    "        embedded = embedded.view(-1, embedding_dim*embedding_dim)\n",
    "        # Linear function\n",
    "        out = self.fc1(embedded)\n",
    "\n",
    "        # Non-linearity\n",
    "        out = torch.relu(out)\n",
    "        \n",
    "        # Toggle 3: Dropout\n",
    "        # out = torch.dropout(out, 0.8)\n",
    "\n",
    "        # Linear function (readout)\n",
    "        # Take note here use a final sigmoid function so your loss should not go through sigmoid again.\n",
    "        # BCELoss is the right class to use as it doesn't pass your output through a sigmoid function again.\n",
    "        # In multi-class problems you're used to softmax which can be simplified to a logistic,\n",
    "        # function when you have a two-class problem.\n",
    "        out = self.fc2(out)\n",
    "        out = torch.sigmoid(out)\n",
    "    \n",
    "        return out"
   ]
  },
  {
   "cell_type": "code",
   "execution_count": 28,
   "metadata": {},
   "outputs": [],
   "source": [
    "input_dim = num_words + 2\n",
    "embedding_dim = max_len\n",
    "hidden_dim = 32\n",
    "output_dim = 1\n",
    "\n",
    "# Instantiate model class and assign to object\n",
    "model = FeedforwardNeuralNetModel(input_dim, embedding_dim, hidden_dim, output_dim)\n",
    "\n",
    "# Push model to CUDA device if available\n",
    "device = torch.device(\"cuda:0\" if torch.cuda.is_available() else \"cpu\")\n",
    "model.to(device)\n",
    "\n",
    "# Loss function\n",
    "criterion = nn.BCELoss()\n",
    "\n",
    "# Optimizer\n",
    "# Toggle 2: L2 Norm option - this is called weight decay\n",
    "# optimizer = torch.optim.Adam(model.parameters(), lr=1e-3, weight_decay=0.005)\n",
    "optimizer = torch.optim.Adam(model.parameters(), lr=1e-3)"
   ]
  },
  {
   "cell_type": "code",
   "execution_count": 29,
   "metadata": {},
   "outputs": [
    {
     "name": "stdout",
     "output_type": "stream",
     "text": [
      "Number of groups of parameters 5\n",
      "--------------------------------------------------\n",
      "torch.Size([1002, 80])\n",
      "torch.Size([32, 6400])\n",
      "torch.Size([32])\n",
      "torch.Size([1, 32])\n",
      "torch.Size([1])\n",
      "--------------------------------------------------\n"
     ]
    }
   ],
   "source": [
    "# Number of groups of parameters\n",
    "print('Number of groups of parameters {}'.format(len(list(model.parameters()))))\n",
    "print('-'*50)\n",
    "# Print parameters\n",
    "for i in range(len(list(model.parameters()))):\n",
    "    print(list(model.parameters())[i].size())\n",
    "print('-'*50)"
   ]
  },
  {
   "cell_type": "code",
   "execution_count": 30,
   "metadata": {
    "scrolled": false
   },
   "outputs": [
    {
     "name": "stdout",
     "output_type": "stream",
     "text": [
      "Iter: 100 | Train Loss: 0.691243052482605 | Val Loss: 0.685560405254364 | Val Accuracy: 52.59\n",
      "Iter: 200 | Train Loss: 0.6649552583694458 | Val Loss: 0.6192490458488464 | Val Accuracy: 55.59\n",
      "Iter: 300 | Train Loss: 0.644988477230072 | Val Loss: 0.5516107082366943 | Val Accuracy: 58.43\n",
      "Iter: 400 | Train Loss: 0.5724755525588989 | Val Loss: 0.6089349389076233 | Val Accuracy: 58.57\n",
      "Iter: 500 | Train Loss: 0.558177649974823 | Val Loss: 0.4621509313583374 | Val Accuracy: 62.12\n",
      "Iter: 600 | Train Loss: 0.39767521619796753 | Val Loss: 0.47625932097435 | Val Accuracy: 62.83\n",
      "Iter: 700 | Train Loss: 0.5065122842788696 | Val Loss: 0.5164039731025696 | Val Accuracy: 62.93\n",
      "Iter: 800 | Train Loss: 0.46617335081100464 | Val Loss: 0.49725666642189026 | Val Accuracy: 64.19\n",
      "Iter: 900 | Train Loss: 0.22484079003334045 | Val Loss: 0.6290018558502197 | Val Accuracy: 64.15\n",
      "Iter: 1000 | Train Loss: 0.18472331762313843 | Val Loss: 0.5441628098487854 | Val Accuracy: 64.09\n",
      "Iter: 1100 | Train Loss: 0.14298395812511444 | Val Loss: 0.5804673433303833 | Val Accuracy: 63.49\n",
      "Iter: 1200 | Train Loss: 0.14651986956596375 | Val Loss: 0.6106327772140503 | Val Accuracy: 64.36\n",
      "Iter: 1300 | Train Loss: 0.1230461448431015 | Val Loss: 0.5710458159446716 | Val Accuracy: 64.36\n",
      "Iter: 1400 | Train Loss: 0.04764590784907341 | Val Loss: 0.7127318382263184 | Val Accuracy: 64.53\n",
      "Iter: 1500 | Train Loss: 0.08026527613401413 | Val Loss: 0.6724676489830017 | Val Accuracy: 64.43\n",
      "Iter: 1600 | Train Loss: 0.06665918231010437 | Val Loss: 0.6913568377494812 | Val Accuracy: 64.47\n",
      "Iter: 1700 | Train Loss: 0.04530477896332741 | Val Loss: 0.8139300346374512 | Val Accuracy: 64.35\n",
      "Iter: 1800 | Train Loss: 0.01752476580440998 | Val Loss: 0.662441074848175 | Val Accuracy: 64.24\n",
      "Iter: 1900 | Train Loss: 0.04578455537557602 | Val Loss: 0.737160861492157 | Val Accuracy: 64.81\n",
      "Iter: 2000 | Train Loss: 0.003361919429153204 | Val Loss: 0.8007785677909851 | Val Accuracy: 64.88\n",
      "Iter: 2100 | Train Loss: 0.011426030658185482 | Val Loss: 0.9335494637489319 | Val Accuracy: 64.36\n",
      "Iter: 2200 | Train Loss: 0.007494657766073942 | Val Loss: 0.9014313817024231 | Val Accuracy: 64.51\n",
      "Iter: 2300 | Train Loss: 0.00459953723475337 | Val Loss: 0.8588752746582031 | Val Accuracy: 64.63\n",
      "Iter: 2400 | Train Loss: 0.0162525437772274 | Val Loss: 0.9190790057182312 | Val Accuracy: 64.68\n",
      "Iter: 2500 | Train Loss: 0.002755713416263461 | Val Loss: 0.973341166973114 | Val Accuracy: 64.79\n",
      "Iter: 2600 | Train Loss: 0.0027042794972658157 | Val Loss: 0.9874817728996277 | Val Accuracy: 64.44\n",
      "Iter: 2700 | Train Loss: 0.002399210352450609 | Val Loss: 0.9873554110527039 | Val Accuracy: 64.57\n"
     ]
    }
   ],
   "source": [
    "iter = 0\n",
    "num_epochs = 10\n",
    "history_train_acc, history_val_acc, history_train_loss, history_val_loss = [], [], [], []\n",
    "best_accuracy = 0\n",
    "for epoch in range(num_epochs):\n",
    "#     print('-'*50)\n",
    "    for i, (samples, labels) in enumerate(train_loader):\n",
    "        # Training mode\n",
    "        model.train()\n",
    "        \n",
    "        # Load samples\n",
    "        samples = samples.view(-1, max_len).to(device)\n",
    "        labels = labels.view(-1, 1).to(device)\n",
    "\n",
    "        # Clear gradients w.r.t. parameters\n",
    "        optimizer.zero_grad()\n",
    "\n",
    "        # Forward pass to get output/logits\n",
    "        outputs = model(samples)\n",
    "\n",
    "        # Calculate Loss: softmax --> cross entropy loss\n",
    "        loss = criterion(outputs, labels)\n",
    "        \n",
    "        # Toggle 1: L1 norm, add to original loss\n",
    "        # fc1_params = torch.cat([x.view(-1) for x in model.fc1.parameters()])\n",
    "        # loss += 0.001 * torch.norm(fc1_params, 1)\n",
    "    \n",
    "        # Getting gradients w.r.t. parameters\n",
    "        loss.backward()\n",
    "\n",
    "        # Updating parameters\n",
    "        optimizer.step()\n",
    "\n",
    "        iter += 1\n",
    "\n",
    "        if iter % 100 == 0:\n",
    "            # Get training statistics\n",
    "            train_loss = loss.data.item()\n",
    "            \n",
    "            # Testing mode\n",
    "            model.eval()\n",
    "            # Calculate Accuracy         \n",
    "            correct = 0\n",
    "            total = 0\n",
    "            # Iterate through test dataset\n",
    "            for samples, labels in valid_loader:\n",
    "                # Load samples\n",
    "                samples = samples.view(-1, max_len).to(device)\n",
    "                labels = labels.view(-1).to(device)\n",
    "\n",
    "                # Forward pass only to get logits/output\n",
    "                outputs = model(samples)\n",
    "                \n",
    "                # Val loss\n",
    "                val_loss = criterion(outputs.view(-1, 1), labels.view(-1, 1))\n",
    "                \n",
    "                # We use a threshold to define. \n",
    "                # There is another way to do this with one-hot label. Feel free to explore and understand what are the pros/cons of each.\n",
    "                # This opens up a whole topic on why it becomes problematic when we expand beyond 2 class to 10 classes.\n",
    "                # Why do we encode? Why can't we do 0, 1, 2, 3, 4 etc. without one-hot encoding?\n",
    "                predicted = outputs.ge(0.5).view(-1)\n",
    "\n",
    "                # Total number of labels\n",
    "                total += labels.size(0)\n",
    "\n",
    "                # Total correct predictions\n",
    "                correct += (predicted.type(torch.FloatTensor).cpu() == labels.type(torch.FloatTensor)).sum().item()\n",
    "                # correct = (predicted == labels.byte()).int().sum().item()\n",
    "            \n",
    "            accuracy = 100. * correct / total\n",
    "        \n",
    "            # Print Loss\n",
    "            print('Iter: {} | Train Loss: {} | Val Loss: {} | Val Accuracy: {}'.format(iter, train_loss, val_loss.item(), round(accuracy, 2)))\n",
    "            \n",
    "            # Append to history\n",
    "            history_val_loss.append(val_loss.data.item())\n",
    "            history_val_acc.append(round(accuracy, 2))\n",
    "            history_train_loss.append(train_loss)\n",
    "            \n",
    "            # Save model when accuracy beats best accuracy\n",
    "            if accuracy > best_accuracy:\n",
    "                best_accuracy = accuracy\n",
    "                # We can load this best model on the validation set later\n",
    "                torch.save(model.state_dict(), 'best_model.pth')"
   ]
  },
  {
   "cell_type": "code",
   "execution_count": 31,
   "metadata": {},
   "outputs": [
    {
     "data": {
      "image/png": "[encoded data removed]",
      "text/plain": [
       "<Figure size 1152x288 with 1 Axes>"
      ]
     },
     "metadata": {},
     "output_type": "display_data"
    }
   ],
   "source": [
    "# Plotting loss graph\n",
    "plt.plot(history_train_loss, label='Train')\n",
    "plt.plot(history_val_loss, label='Validation')\n",
    "plt.title('Loss Graph')\n",
    "plt.legend()\n",
    "plt.show()"
   ]
  },
  {
   "cell_type": "code",
   "execution_count": 32,
   "metadata": {},
   "outputs": [
    {
     "data": {
      "text/plain": [
       "Text(0.5, 1.0, 'Validation Accuracy')"
      ]
     },
     "execution_count": 32,
     "metadata": {},
     "output_type": "execute_result"
    },
    {
     "data": {
      "image/png": "[encoded data removed]",
      "text/plain": [
       "<Figure size 1152x288 with 1 Axes>"
      ]
     },
     "metadata": {},
     "output_type": "display_data"
    }
   ],
   "source": [
    "# Plotting validation accuracy graph\n",
    "plt.plot(history_val_acc)\n",
    "plt.title('Validation Accuracy')"
   ]
  },
  {
   "cell_type": "code",
   "execution_count": 43,
   "metadata": {},
   "outputs": [
    {
     "name": "stdout",
     "output_type": "stream",
     "text": [
      "torch.Size([1002, 80])\n",
      "torch.Size([32, 6400])\n",
      "torch.Size([32])\n",
      "torch.Size([1, 32])\n",
      "torch.Size([1])\n"
     ]
    }
   ],
   "source": [
    "weights = torch.Tensor().to(device)\n",
    "for param_group in list(model.parameters()):\n",
    "    weights = torch.cat((param_group.view(-1), weights))\n",
    "    print(param_group.size())\n",
    "    \n",
    "# Toggle 0: No regularization\n",
    "weights_nothing = weights.cpu().detach().numpy()\n",
    "\n",
    "# Toggle 1: L1 norm on FC1\n",
    "weights_L1 = weights.detach().numpy()\n",
    "\n",
    "# Toggle 2: L2 norm\n",
    "weights_L2 = weights.detach().numpy()\n",
    "\n",
    "# Toggle 3: dropout\n",
    "weights_dropout = weights.detach().numpy()"
   ]
  },
  {
   "cell_type": "code",
   "execution_count": 44,
   "metadata": {},
   "outputs": [
    {
     "data": {
      "text/plain": [
       "(array([ 1435.,  1455.,  1477.,  1475.,  1631.,  1635.,  2037.,  5682.,\n",
       "        25325., 75725., 75674., 25081.,  5674.,  2018.,  1606.,  1504.,\n",
       "         1449.,  1340.,  1457.,  1398.]),\n",
       " array([-0.5 , -0.45, -0.4 , -0.35, -0.3 , -0.25, -0.2 , -0.15, -0.1 ,\n",
       "        -0.05,  0.  ,  0.05,  0.1 ,  0.15,  0.2 ,  0.25,  0.3 ,  0.35,\n",
       "         0.4 ,  0.45,  0.5 ], dtype=float32),\n",
       " <BarContainer object of 20 artists>)"
      ]
     },
     "execution_count": 44,
     "metadata": {},
     "output_type": "execute_result"
    },
    {
     "data": {
      "image/png": "[encoded data removed]",
      "text/plain": [
       "<Figure size 1152x288 with 1 Axes>"
      ]
     },
     "metadata": {},
     "output_type": "display_data"
    }
   ],
   "source": [
    "plt.hist(weights_L1.reshape(-1), range=(-.5, .5), bins=20)"
   ]
  },
  {
   "cell_type": "code",
   "execution_count": 45,
   "metadata": {},
   "outputs": [
    {
     "data": {
      "text/plain": [
       "(array([ 1435.,  1455.,  1477.,  1475.,  1631.,  1635.,  2037.,  5682.,\n",
       "        25325., 75725., 75674., 25081.,  5674.,  2018.,  1606.,  1504.,\n",
       "         1449.,  1340.,  1457.,  1398.]),\n",
       " array([-0.5 , -0.45, -0.4 , -0.35, -0.3 , -0.25, -0.2 , -0.15, -0.1 ,\n",
       "        -0.05,  0.  ,  0.05,  0.1 ,  0.15,  0.2 ,  0.25,  0.3 ,  0.35,\n",
       "         0.4 ,  0.45,  0.5 ], dtype=float32),\n",
       " <BarContainer object of 20 artists>)"
      ]
     },
     "execution_count": 45,
     "metadata": {},
     "output_type": "execute_result"
    },
    {
     "data": {
      "image/png": "[encoded data removed]",
      "text/plain": [
       "<Figure size 1152x288 with 1 Axes>"
      ]
     },
     "metadata": {},
     "output_type": "display_data"
    }
   ],
   "source": [
    "plt.hist(weights_nothing.reshape(-1), range=(-.5, .5), bins=20)"
   ]
  },
  {
   "cell_type": "code",
   "execution_count": 46,
   "metadata": {},
   "outputs": [
    {
     "data": {
      "image/png": "[encoded data removed]",
      "text/plain": [
       "<Figure size 1152x288 with 1 Axes>"
      ]
     },
     "metadata": {},
     "output_type": "display_data"
    }
   ],
   "source": [
    "# Show weight distribution\n",
    "plt.hist((\n",
    "    weights_nothing.reshape(-1),\n",
    "    weights_L1.reshape(-1),\n",
    "    weights_L2.reshape(-1),\n",
    "), 49, range=(-.5, .5), label=(\n",
    "    'No-reg',\n",
    "    'L1',\n",
    "    'L2',\n",
    "))\n",
    "plt.legend();"
   ]
  },
  {
   "cell_type": "code",
   "execution_count": null,
   "metadata": {},
   "outputs": [],
   "source": []
  }
 ],
 "metadata": {
  "kernelspec": {
   "display_name": "Python 3",
   "language": "python",
   "name": "python3"
  },
  "language_info": {
   "codemirror_mode": {
    "name": "ipython",
    "version": 3
   },
   "file_extension": ".py",
   "mimetype": "text/x-python",
   "name": "python",
   "nbconvert_exporter": "python",
   "pygments_lexer": "ipython3",
   "version": "3.6.13"
  },
  "varInspector": {
   "cols": {
    "lenName": 16,
    "lenType": 16,
    "lenVar": 40
   },
   "kernels_config": {
    "python": {
     "delete_cmd_postfix": "",
     "delete_cmd_prefix": "del ",
     "library": "var_list.py",
     "varRefreshCmd": "print(var_dic_list())"
    },
    "r": {
     "delete_cmd_postfix": ") ",
     "delete_cmd_prefix": "rm(",
     "library": "var_list.r",
     "varRefreshCmd": "cat(var_dic_list()) "
    }
   },
   "types_to_exclude": [
    "module",
    "function",
    "builtin_function_or_method",
    "instance",
    "_Feature"
   ],
   "window_display": false
  }
 },
 "nbformat": 4,
 "nbformat_minor": 4
}
